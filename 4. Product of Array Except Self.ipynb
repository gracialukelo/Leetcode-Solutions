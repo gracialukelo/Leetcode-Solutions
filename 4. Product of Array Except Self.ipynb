{
 "cells": [
  {
   "cell_type": "code",
   "execution_count": 36,
   "id": "e3e60483",
   "metadata": {},
   "outputs": [],
   "source": [
    "class Solution:\n",
    "    def productExceptSelf(self, nums: list[int]) -> list[int]:\n",
    "        res = [1] * len(nums)\n",
    "        \n",
    "        prefix = 1\n",
    "        for i in range(len(nums)):\n",
    "            res[i] = prefix\n",
    "            prefix *= nums[i]\n",
    "        postfix = 1\n",
    "        for i in range(len(nums) -1, -1, -1):\n",
    "            res[i] *= postfix\n",
    "            postfix *= nums[i]\n",
    "        return res\n",
    "        "
   ]
  },
  {
   "cell_type": "code",
   "execution_count": 49,
   "id": "ddf56f11",
   "metadata": {},
   "outputs": [
    {
     "data": {
      "text/plain": [
       "[24, 12, 8, 6]"
      ]
     },
     "execution_count": 49,
     "metadata": {},
     "output_type": "execute_result"
    }
   ],
   "source": [
    "nums = [1,2,3,4]\n",
    "l1 = Solution()\n",
    "l1.productExceptSelf(nums)"
   ]
  },
  {
   "cell_type": "code",
   "execution_count": 48,
   "id": "f35cc75a",
   "metadata": {},
   "outputs": [
    {
     "name": "stdout",
     "output_type": "stream",
     "text": [
      "[24, 12, 8, 6]\n",
      "[0, 0, 9, 0, 0]\n"
     ]
    }
   ],
   "source": [
    "# Chat GPT\n",
    "\n",
    "def productExceptSelf(nums):\n",
    "    n = len(nums)\n",
    "    \n",
    "    # Initialisieren Sie zwei Listen, um die Produkte der Präfixe und Suffixe zu speichern.\n",
    "    prefix_products = [1] * n\n",
    "    suffix_products = [1] * n\n",
    "    \n",
    "    result = [0] * n\n",
    "    \n",
    "    # Berechnen Sie die Produkte der Präfixe für jedes Element in \"prefix_products\".\n",
    "    prefix_product = 1\n",
    "    for i in range(n):\n",
    "        prefix_products[i] = prefix_product\n",
    "        prefix_product *= nums[i]\n",
    "    \n",
    "    # Berechnen Sie die Produkte der Suffixe für jedes Element in \"suffix_products\".\n",
    "    suffix_product = 1\n",
    "    for i in range(n - 1, -1, -1):\n",
    "        suffix_products[i] = suffix_product\n",
    "        suffix_product *= nums[i]\n",
    "    \n",
    "    # Berechnen Sie das Endergebnis, indem Sie die Produkte der Präfixe und Suffixe verwenden.\n",
    "    for i in range(n):\n",
    "        result[i] = prefix_products[i] * suffix_products[i]\n",
    "    \n",
    "    return result\n",
    "\n",
    "# Beispiel\n",
    "nums1 = [1, 2, 3, 4]\n",
    "print(productExceptSelf(nums1))  # Ausgabe: [24, 12, 8, 6]\n",
    "\n",
    "nums2 = [-1, 1, 0, -3, 3]\n",
    "print(productExceptSelf(nums2))  # Ausgabe: [0, 0, 9, 0, 0]\n"
   ]
  }
 ],
 "metadata": {
  "kernelspec": {
   "display_name": "Python 3 (ipykernel)",
   "language": "python",
   "name": "python3"
  },
  "language_info": {
   "codemirror_mode": {
    "name": "ipython",
    "version": 3
   },
   "file_extension": ".py",
   "mimetype": "text/x-python",
   "name": "python",
   "nbconvert_exporter": "python",
   "pygments_lexer": "ipython3",
   "version": "3.10.9"
  }
 },
 "nbformat": 4,
 "nbformat_minor": 5
}
