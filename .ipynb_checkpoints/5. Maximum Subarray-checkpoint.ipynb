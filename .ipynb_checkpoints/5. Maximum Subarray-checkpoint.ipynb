{
 "cells": [
  {
   "cell_type": "code",
   "execution_count": 7,
   "id": "f96e76f5",
   "metadata": {},
   "outputs": [],
   "source": [
    "class Solution:\n",
    "    def maxSubArray(self, nums: list[int]) -> int:\n",
    "        maxSub = nums[0]\n",
    "        curSum = 0\n",
    "        \n",
    "        for n in nums:\n",
    "            if curSum < 0:\n",
    "                curSum = 0\n",
    "            curSum += n\n",
    "            maxSub = max(maxSub, curSum)\n",
    "        return maxSub"
   ]
  },
  {
   "cell_type": "code",
   "execution_count": 8,
   "id": "efa77d21",
   "metadata": {},
   "outputs": [
    {
     "data": {
      "text/plain": [
       "6"
      ]
     },
     "execution_count": 8,
     "metadata": {},
     "output_type": "execute_result"
    }
   ],
   "source": [
    "nums = [-2,1,-3,4,-1,2,1,-5,4]\n",
    "\n",
    "l1 = Solution()\n",
    "l1.maxSubArray(nums)"
   ]
  },
  {
   "cell_type": "code",
   "execution_count": 10,
   "id": "f24092e8",
   "metadata": {},
   "outputs": [
    {
     "name": "stdout",
     "output_type": "stream",
     "text": [
      "6\n",
      "1\n",
      "23\n"
     ]
    }
   ],
   "source": [
    "# ChatGPT\n",
    "\n",
    "def max_subarray_sum(nums):\n",
    "    max_sum = nums[0]  # Initialize max_sum with the first element\n",
    "    current_sum = nums[0]  # Initialize current_sum with the first element\n",
    "    \n",
    "    for num in nums[1:]:\n",
    "        # Calculate the maximum of the current number and the current_sum + the current number\n",
    "        current_sum = max(num, current_sum + num)\n",
    "        # Update max_sum if current_sum is greater\n",
    "        max_sum = max(max_sum, current_sum)\n",
    "    \n",
    "    return max_sum\n",
    "\n",
    "# Example usage:\n",
    "nums1 = [-2, 1, -3, 4, -1, 2, 1, -5, 4]\n",
    "print(max_subarray_sum(nums1))  # Output: 6\n",
    "\n",
    "nums2 = [1]\n",
    "print(max_subarray_sum(nums2))  # Output: 1\n",
    "\n",
    "nums3 = [5, 4, -1, 7, 8]\n",
    "print(max_subarray_sum(nums3))  # Output: 23\n"
   ]
  },
  {
   "cell_type": "code",
   "execution_count": null,
   "id": "fd698b73",
   "metadata": {},
   "outputs": [],
   "source": []
  }
 ],
 "metadata": {
  "kernelspec": {
   "display_name": "Python 3 (ipykernel)",
   "language": "python",
   "name": "python3"
  },
  "language_info": {
   "codemirror_mode": {
    "name": "ipython",
    "version": 3
   },
   "file_extension": ".py",
   "mimetype": "text/x-python",
   "name": "python",
   "nbconvert_exporter": "python",
   "pygments_lexer": "ipython3",
   "version": "3.10.9"
  }
 },
 "nbformat": 4,
 "nbformat_minor": 5
}
